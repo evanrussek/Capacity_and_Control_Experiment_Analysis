{
 "cells": [
  {
   "cell_type": "code",
   "execution_count": null,
   "id": "9a64dd5a",
   "metadata": {},
   "outputs": [],
   "source": [
    "using CSV, DataFrames\n",
    "using PythonPlot\n",
    "using Statistics\n",
    "\n",
    "# Load the CSV file\n",
    "\n",
    "human_agg_long_FullRun = CSV.read(\"data/human_agg_long_FullRun.csv\", DataFrame)\n",
    "monkey_agg_long_FullRun = CSV.read(\"data/monkey_agg_long_FullRun.csv\", DataFrame)\n",
    "\n",
    "human_agg_long_FullRun_Filtered = CSV.read(\"data/human_agg_long_FullRun_filtered.csv\", DataFrame)\n",
    "monkey_agg_long_FullRun_Filtered = CSV.read(\"data/monkey_agg_long_FullRun_filtered.csv\", DataFrame)\n",
    "\n",
    "# Vertically concatenate human and monkey filtered DataFrames\n",
    "human_agg_long_FullRun_Filtered.species = fill(\"human\", nrow(human_agg_long_FullRun_Filtered))\n",
    "monkey_agg_long_FullRun_Filtered.species = fill(\"monkey\", nrow(monkey_agg_long_FullRun_Filtered))\n",
    "combined_agg_long_FullRun_Filtered = vcat(human_agg_long_FullRun_Filtered, monkey_agg_long_FullRun_Filtered)\n"
   ]
  },
  {
   "cell_type": "code",
   "execution_count": null,
   "id": "b1671bb7",
   "metadata": {},
   "outputs": [],
   "source": [
    "using MixedModels, DataFrames, StatsModels\n",
    "\n",
    "function fit_acc_glmm(df::DataFrame)\n",
    "    df = deepcopy(df[df.label .!= \"incongruent\", :])\n",
    "\n",
    "    # Response as a proportion with binomial weights\n",
    "    df.acc = df.y ./ df.n\n",
    "\n",
    "    # Re-code predictors\n",
    "    df.pre_c     = (df.pre_ms .- mean(unique(df.pre_ms))) ./ 1000  # scale to seconds, center using mean of unique values\n",
    "    df.q_c       = df.q .- mean(unique(df.q))               # center using mean of unique values\n",
    "    df.m_c       = df.m .- mean(unique(df.m))  # center m using mean of unique values\n",
    "    df.label_c   = ifelse.(df.label .== \"congruent_true\", 0.5, -0.5)  # effect-coded ±0.5\n",
    "    df.obs       = 1:nrow(df)                       # for OLRE (optional)\n",
    "\n",
    "    f = @formula(\n",
    "        acc ~ 1 +\n",
    "        label_c * (q_c + pre_c + m_c) +\n",
    "        (1 + label_c*(m_c + pre_c) | id)\n",
    "    )\n",
    "\n",
    "    m = fit(GeneralizedLinearMixedModel, f, df, Binomial(), LogitLink(); wts = df.n)\n",
    "    return m\n",
    "end\n",
    "\n",
    "\n",
    "function fit_acc_glmm_monkey(df::DataFrame)\n",
    "    df = deepcopy(df[df.label .!= \"incongruent\", :])\n",
    "\n",
    "    # Response as a proportion with binomial weights\n",
    "    df.acc = df.y ./ df.n\n",
    "\n",
    "    # Re-code predictors\n",
    "    df.pre_c     = (df.pre_ms .- mean(unique(df.pre_ms))) ./ 1000  # scale to seconds, center using mean of unique values\n",
    "    df.q_c       = df.q .- mean(unique(df.q))               # center using mean of unique values\n",
    "    df.m_c       = df.m .- mean(unique(df.m))  # center m using mean of unique values\n",
    "    df.label_c   = ifelse.(df.label .== \"congruent_true\", 0.5, -0.5)  # effect-coded ±0.5\n",
    "    df.obs       = 1:nrow(df)                       # for OLRE (optional)\n",
    "\n",
    "    f = @formula(\n",
    "        acc ~ 1 +\n",
    "        label_c * (pre_c + m_c) +\n",
    "        (1 + label_c*(m_c + pre_c) | id)\n",
    "    )\n",
    "\n",
    "    m = fit(GeneralizedLinearMixedModel, f, df, Binomial(), LogitLink(); wts = df.n)\n",
    "    return m\n",
    "end"
   ]
  },
  {
   "cell_type": "code",
   "execution_count": null,
   "id": "6925cb0e",
   "metadata": {},
   "outputs": [],
   "source": [
    "hum_filt_m = fit_acc_glmm(human_agg_long_FullRun_Filtered)"
   ]
  },
  {
   "cell_type": "code",
   "execution_count": null,
   "id": "d043cef0",
   "metadata": {},
   "outputs": [],
   "source": [
    "print(hum_filt_m)"
   ]
  },
  {
   "cell_type": "code",
   "execution_count": null,
   "id": "4ac5cc38",
   "metadata": {},
   "outputs": [],
   "source": [
    "mon_filt_m = fit_acc_glmm_monkey(monkey_agg_long_FullRun_Filtered)"
   ]
  },
  {
   "cell_type": "code",
   "execution_count": null,
   "id": "2aae6a2f",
   "metadata": {},
   "outputs": [],
   "source": [
    "print(mon_filt_m)"
   ]
  }
 ],
 "metadata": {
  "kernelspec": {
   "display_name": "Julia 1.9.1 Robust 1.9.1",
   "language": "julia",
   "name": "julia-1.9.1-robust-1.9"
  },
  "language_info": {
   "file_extension": ".jl",
   "mimetype": "application/julia",
   "name": "julia",
   "version": "1.9.1"
  }
 },
 "nbformat": 4,
 "nbformat_minor": 5
}
